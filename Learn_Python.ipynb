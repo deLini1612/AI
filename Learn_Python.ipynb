{
 "cells": [
  {
   "cell_type": "markdown",
   "metadata": {},
   "source": [
    "# Learn the Basics"
   ]
  },
  {
   "cell_type": "markdown",
   "metadata": {},
   "source": [
    "### Assignment operator"
   ]
  },
  {
   "cell_type": "markdown",
   "metadata": {},
   "source": [
    "- In Python, assignments can be done simultaneously --> if you need to swap 2 number, **NO NEED** any temp variable (like in c)"
   ]
  },
  {
   "cell_type": "code",
   "execution_count": 2,
   "metadata": {},
   "outputs": [
    {
     "name": "stdout",
     "output_type": "stream",
     "text": [
      "2 1\n"
     ]
    }
   ],
   "source": [
    "a = 1\n",
    "b = 2\n",
    "a, b = b, a\n",
    "print(a, b)"
   ]
  },
  {
   "cell_type": "markdown",
   "metadata": {},
   "source": [
    "### String Formatting"
   ]
  },
  {
   "cell_type": "markdown",
   "metadata": {},
   "source": [
    "- The \"%\" operator is used to format a set of variables enclosed in a \"tuple\" (a fixed size list), together with a format string\n",
    "- Argument will be formatting in right order as in tuple\n",
    "  ```Python\n",
    "  print(\"Number 1 = %d, Number 2 = %d\" % (num1, num2))\n",
    "  ```\n",
    "- If the type in tuple does not match --> Error and can't run\n",
    "- Any object which is not a string can be formatted using the %s operator as well --> That object will be formatted as a string"
   ]
  },
  {
   "cell_type": "markdown",
   "metadata": {},
   "source": [
    "### Basic String Operations"
   ]
  },
  {
   "cell_type": "markdown",
   "metadata": {},
   "source": [
    "- Want to find the location (index of first letter) of the first occurrence of a string: method `.index(\"<string need to find>\")`\n",
    "- String also has \"slice\" with syntax `[<start>:<stop>:<step>]`, from index = `start` until index < `stop` (default, step = 1)\n",
    "- `.upper()` and `.lower()` methods: upper and lower a string\n",
    "- `.startswith(\"<string>\")` and `.endswith(\",string>\")` methods: Return bool value to check whether the string starts with something or ends with something\n",
    "- `.split(\"<demi>\")`: splits the string into a bunch of strings grouped together in a list, separate with `<demi>` (not count `<demi>` in after results)\n",
    "  - Default: `<demi>` = \" \" (space)"
   ]
  },
  {
   "cell_type": "code",
   "execution_count": null,
   "metadata": {},
   "outputs": [],
   "source": [
    "astring = \"Hello world!\"\n",
    "afewwords = astring.split(\" \")\n",
    "print(afewwords)"
   ]
  },
  {
   "cell_type": "markdown",
   "metadata": {},
   "source": [
    "### Conditions"
   ]
  },
  {
   "cell_type": "markdown",
   "metadata": {},
   "source": [
    "- Unlike the double equals operator \"==\", the \"is\" operator does not match the values of the variables, but the instances themselves"
   ]
  },
  {
   "cell_type": "code",
   "execution_count": null,
   "metadata": {},
   "outputs": [],
   "source": [
    "# Separate is and ==\n",
    "x = [1,2,3]\n",
    "y = [1,2,3]\n",
    "print(x == y) # Prints out True\n",
    "print(x is y) # Prints out False"
   ]
  },
  {
   "cell_type": "markdown",
   "metadata": {},
   "source": [
    "### Loop"
   ]
  },
  {
   "cell_type": "markdown",
   "metadata": {},
   "source": [
    "- Unlike C, C++; in Python we have **else** for loops\n",
    "- When the loop condition of \"for\" or \"while\" statement fails --> code part in \"else\" is executed (just 1 time when condition is fails)\n",
    "- If a **break** statement is executed inside the for loop then the \"else\" part is ***skipped***\n",
    "- If a **continue** statement is executed inside the for loop then the \"else\" part still is ***executed***"
   ]
  },
  {
   "cell_type": "code",
   "execution_count": null,
   "metadata": {},
   "outputs": [],
   "source": [
    "count=0\n",
    "while(count<4):\n",
    "    print(count)\n",
    "    count +=1\n",
    "else:\n",
    "    print(\"else block: count value reached %d\" %(count))\n",
    "\n",
    "for i in range(1, 10):\n",
    "    if(i%3==0):\n",
    "        continue\n",
    "    if (i%8 == 0):\n",
    "        break\n",
    "    print(i)\n",
    "else:\n",
    "    print(\"else block: count value is %d\" % (i))"
   ]
  },
  {
   "cell_type": "markdown",
   "metadata": {},
   "source": [
    "### Dictionaries"
   ]
  },
  {
   "cell_type": "markdown",
   "metadata": {},
   "source": [
    "- Dictionary works a pair `key` and `value` instead of index\n",
    "- Each value stored in a dictionary can be accessed using a key\n",
    "- To iterate over dictionaries, we can't using index --> have to use `.items()` method\n",
    "- To remove a value, using `del` function or `.pop(<key>)` method"
   ]
  },
  {
   "cell_type": "code",
   "execution_count": null,
   "metadata": {},
   "outputs": [],
   "source": [
    "# Iterating over dictionaries\n",
    "phonebook = {\"John\" : 938477566,\"Jack\" : 938377264,\"Jill\" : 947662781}\n",
    "for name, number in phonebook.items():\n",
    "    print(\"Phone number of %s is %d\" % (name, number))\n",
    "\n",
    "# Remove using del\n",
    "del phonebook[\"John\"]\n",
    "print(phonebook)\n",
    "\n",
    "# Remove using pop\n",
    "phonebook.pop(\"Jack\")\n",
    "print(phonebook)"
   ]
  },
  {
   "cell_type": "markdown",
   "metadata": {},
   "source": [
    "- To get value coressponding with a key --> using `get(<key>)` method\n",
    "- To retrieve a dictionary, using\n",
    "  - `keys()` method: return a ***list*** of all the keys\n",
    "  - `values()` method: return a ***list*** of all the values\n",
    "  - `items()` method: return each item in a dictionary ad ***tuple in a list***\n",
    "  > The list of the `keys()`,`values()`  and `items()` is a **view of the dictionary**, meaning that any changes done to the dictionary will be reflected in the keys list"
   ]
  },
  {
   "cell_type": "code",
   "execution_count": 5,
   "metadata": {},
   "outputs": [
    {
     "name": "stdout",
     "output_type": "stream",
     "text": [
      "dict_keys(['Mom', 'Dad', 'Born'])\n",
      "dict_values(['Giang', 'Long', 2002])\n",
      "dict_items([('Mom', 'Giang'), ('Dad', 'Long'), ('Born', 2002)])\n",
      "\n",
      "After change:\n",
      "dict_keys(['Mom', 'Dad', 'Born', 'Sex'])\n",
      "dict_values(['Giang', 'Long', 2002, 'Female'])\n",
      "dict_items([('Mom', 'Giang'), ('Dad', 'Long'), ('Born', 2002), ('Sex', 'Female')])\n"
     ]
    }
   ],
   "source": [
    "mydict = {\n",
    "    'Mom':'Giang',\n",
    "    'Dad':'Long',\n",
    "    'Born':2002,\n",
    "    }\n",
    "\n",
    "x=mydict.keys()\n",
    "y=mydict.values()\n",
    "z=mydict.items()\n",
    "print(x)\n",
    "print(y)\n",
    "print(z)\n",
    "\n",
    "print(\"\\nAfter change:\")\n",
    "mydict['Sex'] = 'Female'\n",
    "print(x)\n",
    "print(y)\n",
    "print(z)"
   ]
  },
  {
   "cell_type": "markdown",
   "metadata": {},
   "source": [
    "### Modules and Packages"
   ]
  },
  {
   "cell_type": "markdown",
   "metadata": {},
   "source": [
    "- Python interpreter will look for **modules** in:\n",
    "  - the default local directory\n",
    "  - built-in modules\n",
    "  - use environment variable `PYTHONPATH` to specify additional directories\n",
    "  - `sys.path.append` function (Execute it ***before*** running the `import`)\n",
    "- `dir` function: look for which functions are implemented in each module\n",
    "- **Packet** = directories containing multiple packages and modules\n",
    "- Each package in Python ***MUST*** contain `__init__.py` file to:\n",
    "  - Indicates that the directory it's in is a Python package \n",
    "  - Decide which modules the package exports as the API, while keeping other modules internal  (by overriding the `__all__` variable)"
   ]
  },
  {
   "cell_type": "markdown",
   "metadata": {},
   "source": [
    "# Data Science Tutorials"
   ]
  },
  {
   "cell_type": "markdown",
   "metadata": {},
   "source": [
    "### Numpy Arrays"
   ]
  },
  {
   "cell_type": "markdown",
   "metadata": {},
   "source": [
    "- Key advantages: fast, easy to work with, and can perform calculations across entire arrays\n",
    "- Numpy arrays can be created from a List\n",
    "- Normal arithmetic operaters is treated as element-wise operaters\n",
    "- Can subsetting"
   ]
  },
  {
   "cell_type": "code",
   "execution_count": 2,
   "metadata": {},
   "outputs": [
    {
     "name": "stdout",
     "output_type": "stream",
     "text": [
      "[1.87 1.87 1.82 1.91 1.9  1.85]\n",
      "[81.65 97.52 95.25 92.98 86.18 88.45]\n",
      "<class 'numpy.ndarray'>\n",
      "[23.34925219 27.88755755 28.75558507 25.48723993 23.87257618 25.84368152]\n",
      "[27.88755755 28.75558507]\n"
     ]
    }
   ],
   "source": [
    "import numpy as np\n",
    "\n",
    "# Create 2 new lists\n",
    "height = [1.87,  1.87, 1.82, 1.91, 1.90, 1.85]\n",
    "weight = [81.65, 97.52, 95.25, 92.98, 86.18, 88.45]\n",
    "\n",
    "# Create 2 numpy arrays from lists\n",
    "np_height = np.array(height)\n",
    "np_weight = np.array(weight)\n",
    "print(np_height)\n",
    "print(np_weight)\n",
    "\n",
    "# Bit-wise operaters\n",
    "bmi = np_weight / np_height ** 2\n",
    "\n",
    "# Print the result\n",
    "print(type(bmi))\n",
    "print(bmi)\n",
    "\n",
    "# Subsetting --> Ex: print elements in bmi that > 26\n",
    "print(bmi[bmi > 26])"
   ]
  },
  {
   "cell_type": "markdown",
   "metadata": {},
   "source": [
    "### Pandas Basics"
   ]
  },
  {
   "cell_type": "markdown",
   "metadata": {},
   "source": [
    "- Pandas DataFrames: store and manipulate tabular data in rows of observations and columns of variables\n",
    "- To create a DataFrame: Using a dictionary; import from `.csv` file (default: first line = header)\n",
    "  - index_col: set which columns to be used as the index of the dataframe\n",
    "- In Dataframe --> There is a column that show index\n",
    "  - Default: int, start from 0\n",
    "  - Can be modify by user using `.index` properties\n",
    "- Can use `[]` to select one **column** using header (single bracket [out = Pandas Series] or double bracket [out = Pandas DataFrame])\n",
    "- Use `()` to access one **row**\n",
    "- Can use `loc` and `iloc` to selecting data (base on both colum and row)\n",
    "  - `loc` is ***label-based*** --> have to pass ***name*** rows or columns and can accept the boolean data\n",
    "  - `iloc` is ***integer index*** based --> have to pass ***interger index*** rows or columns by their integer index: locate a cell of the data set"
   ]
  },
  {
   "cell_type": "code",
   "execution_count": 1,
   "metadata": {},
   "outputs": [
    {
     "name": "stdout",
     "output_type": "stream",
     "text": [
      "        country    capital    area  population\n",
      "0        Brazil   Brasilia   8.516      200.40\n",
      "1        Russia     Moscow  17.100      143.50\n",
      "2         India  New Dehli   3.286     1252.00\n",
      "3         China    Beijing   9.597     1357.00\n",
      "4  South Africa   Pretoria   1.221       52.98\n",
      "\n",
      "\n",
      "   day  month  year   name\n",
      "1   16     12     2   Linh\n",
      "2   13      9     2   Hieu\n",
      "3   14     10     2  Duong\n",
      "4   12     12     2   Kiet\n",
      "5    2      6    76  Giang\n",
      "6   12      8    80    Hue\n"
     ]
    }
   ],
   "source": [
    "import pandas as pd\n",
    "\n",
    "dict = {\"country\": [\"Brazil\", \"Russia\", \"India\", \"China\", \"South Africa\"],\n",
    "       \"capital\": [\"Brasilia\", \"Moscow\", \"New Dehli\", \"Beijing\", \"Pretoria\"],\n",
    "       \"area\": [8.516, 17.10, 3.286, 9.597, 1.221],\n",
    "       \"population\": [200.4, 143.5, 1252, 1357, 52.98] }\n",
    "\n",
    "brics = pd.DataFrame(dict)\n",
    "print(brics)\n",
    "\n",
    "print('\\n')\n",
    "\n",
    "# index_col =\n",
    "data = pd.read_csv('sample_data.csv', index_col = 0)\n",
    "print(data)"
   ]
  },
  {
   "cell_type": "code",
   "execution_count": 2,
   "metadata": {},
   "outputs": [
    {
     "name": "stdout",
     "output_type": "stream",
     "text": [
      "         country    capital    area  population\n",
      "BR        Brazil   Brasilia   8.516      200.40\n",
      "RU        Russia     Moscow  17.100      143.50\n",
      "IN         India  New Dehli   3.286     1252.00\n",
      "CH         China    Beijing   9.597     1357.00\n",
      "SA  South Africa   Pretoria   1.221       52.98\n"
     ]
    }
   ],
   "source": [
    "# Set the index for brics\n",
    "brics.index = [\"BR\", \"RU\", \"IN\", \"CH\", \"SA\"]\n",
    "\n",
    "# Print out brics with new index values\n",
    "print(brics)"
   ]
  },
  {
   "cell_type": "code",
   "execution_count": 3,
   "metadata": {},
   "outputs": [
    {
     "name": "stdout",
     "output_type": "stream",
     "text": [
      "1    16\n",
      "2    13\n",
      "3    14\n",
      "4    12\n",
      "5     2\n",
      "6    12\n",
      "Name: day, dtype: int64\n",
      "   day\n",
      "1   16\n",
      "2   13\n",
      "3   14\n",
      "4   12\n",
      "5    2\n",
      "6   12\n",
      "   day  year\n",
      "1   16     2\n",
      "2   13     2\n",
      "3   14     2\n",
      "4   12     2\n",
      "5    2    76\n",
      "6   12    80\n"
     ]
    }
   ],
   "source": [
    "# Print out country column as Pandas Series\n",
    "print(data['day'])\n",
    "\n",
    "# Print out country column as Pandas DataFrame\n",
    "print(data[['day']])\n",
    "\n",
    "# Print out DataFrame with country and drives_right columns\n",
    "print(data[['day', 'year']])"
   ]
  },
  {
   "cell_type": "code",
   "execution_count": 4,
   "metadata": {},
   "outputs": [
    {
     "name": "stdout",
     "output_type": "stream",
     "text": [
      "   day  month  year   name\n",
      "1   16     12     2   Linh\n",
      "2   13      9     2   Hieu\n",
      "3   14     10     2  Duong\n",
      "4   12     12     2   Kiet\n",
      "   day  month  year   name\n",
      "2   13      9     2   Hieu\n",
      "3   14     10     2  Duong\n"
     ]
    }
   ],
   "source": [
    "# Print out first 4 observations\n",
    "print(data[0:4])\n",
    "\n",
    "# Print out fifth and sixth observation\n",
    "print(data[1:3])"
   ]
  },
  {
   "cell_type": "code",
   "execution_count": 5,
   "metadata": {},
   "outputs": [
    {
     "name": "stdout",
     "output_type": "stream",
     "text": [
      "   day  month  year   name\n",
      "1   16     12     2   Linh\n",
      "2   13      9     2   Hieu\n",
      "3   14     10     2  Duong\n",
      "4   12     12     2   Kiet\n"
     ]
    }
   ],
   "source": [
    "# Print out observation for birth in year 02\n",
    "print(data.loc[data['year']==2])"
   ]
  },
  {
   "cell_type": "code",
   "execution_count": 6,
   "metadata": {},
   "outputs": [
    {
     "name": "stdout",
     "output_type": "stream",
     "text": [
      "   year   name\n",
      "1     2   Linh\n",
      "2     2   Hieu\n",
      "3     2  Duong\n",
      "4     2   Kiet\n",
      "5    76  Giang\n",
      "6    80    Hue\n"
     ]
    }
   ],
   "source": [
    "print(data.loc[:,['year', 'name']])"
   ]
  },
  {
   "cell_type": "code",
   "execution_count": 7,
   "metadata": {},
   "outputs": [
    {
     "name": "stdout",
     "output_type": "stream",
     "text": [
      "10\n",
      "\n",
      "\n",
      "   day  month  year  name\n",
      "1   16     12     2  Linh\n",
      "2   13      9     2  Hieu\n"
     ]
    }
   ],
   "source": [
    "# select data from row 2, colum 1\n",
    "print(data.iloc[2, 1])\n",
    "print('\\n')\n",
    "print(data.loc[[1, 2]])"
   ]
  },
  {
   "cell_type": "markdown",
   "metadata": {},
   "source": [
    "# Advanced Tutorials"
   ]
  },
  {
   "cell_type": "markdown",
   "metadata": {},
   "source": [
    "### Generators"
   ]
  },
  {
   "cell_type": "markdown",
   "metadata": {},
   "source": [
    "- A function return an iterable set of items --> used to create iterator\n",
    "- Inside generator will have a ***loop*** (`for` or `while` loop)\n",
    "  - When an iteration over a set of item: the generator is run\n",
    "  - Once the generator's function code reaches a `yield` statement: yield (generate) a new element"
   ]
  },
  {
   "cell_type": "code",
   "execution_count": 7,
   "metadata": {},
   "outputs": [
    {
     "name": "stdout",
     "output_type": "stream",
     "text": [
      "<generator object lottery at 0x7f1ef0558f20>\n",
      "\n",
      "\n",
      "And the next number is... 7!\n",
      "Will it reach?\n",
      "And the next number is... 33!\n",
      "Will it reach?\n",
      "And the next number is... 21!\n",
      "Will it reach?\n",
      "And the next number is... 34!\n",
      "Will it reach?\n",
      "And the next number is... 9!\n",
      "Will it reach?\n",
      "And the next number is... 1!\n",
      "Will it reach?\n",
      "And the next number is... 10!\n"
     ]
    }
   ],
   "source": [
    "import random\n",
    "\n",
    "def lottery():\n",
    "    # returns 6 numbers between 1 and 40\n",
    "    for i in range(6):\n",
    "        yield random.randint(1, 40)\n",
    "        \n",
    "    # returns a 7th number between 1 and 15\n",
    "    yield random.randint(1, 15)\n",
    "\n",
    "# lottery is generator, not set, list,...\n",
    "print(lottery())\n",
    "\n",
    "print('\\n')\n",
    "\n",
    "for random_number in lottery():\n",
    "       print(\"And the next number is... %d!\" %(random_number))"
   ]
  },
  {
   "cell_type": "markdown",
   "metadata": {},
   "source": [
    "### List Comprehensions"
   ]
  },
  {
   "cell_type": "markdown",
   "metadata": {},
   "source": [
    "- Create a new list based on another interable object, in a single, readable line\n",
    "  --> No need to use a loop"
   ]
  },
  {
   "cell_type": "code",
   "execution_count": null,
   "metadata": {},
   "outputs": [],
   "source": [
    "# Create a list contain len of each word in a string (except for \"the\")\n",
    "sentence = \"the quick brown fox jumps over the lazy dog\"\n",
    "words = sentence.split()\n",
    "word_lengths = [len(word) for word in words if word != \"the\"]\n",
    "print(words)\n",
    "print(word_lengths)"
   ]
  },
  {
   "cell_type": "code",
   "execution_count": 10,
   "metadata": {},
   "outputs": [
    {
     "name": "stdout",
     "output_type": "stream",
     "text": [
      "[34, 44, 68, 44, 12]\n"
     ]
    }
   ],
   "source": [
    "# Create a list from a tuple\n",
    "numbers = (34.6, -203.4, 44.9, 68.3, -12.2, 44.6, 12.7)\n",
    "newlist = [int(x) for x in numbers if x>0]\n",
    "print(newlist)"
   ]
  },
  {
   "cell_type": "code",
   "execution_count": 17,
   "metadata": {},
   "outputs": [
    {
     "name": "stdout",
     "output_type": "stream",
     "text": [
      "1\n",
      "1\n",
      "2\n",
      "3\n",
      "5\n",
      "8\n",
      "13\n",
      "21\n",
      "34\n",
      "55\n",
      "\n",
      "\n",
      "[3, 21]\n"
     ]
    }
   ],
   "source": [
    "# Create a list from a generator\n",
    "def fib():\n",
    "    a, b = 1, 1\n",
    "    counter = 0\n",
    "    while 1:\n",
    "        yield a\n",
    "        a, b = b, a + b\n",
    "        counter += 1\n",
    "        if counter == 10:\n",
    "            break\n",
    "\n",
    "for random_number in fib():\n",
    "       print(random_number)\n",
    "\n",
    "print('\\n')\n",
    "\n",
    "evenlist = [int(x) for x in fib() if x%3==0]\n",
    "print(evenlist)"
   ]
  },
  {
   "cell_type": "markdown",
   "metadata": {},
   "source": [
    "### Lambda functions"
   ]
  },
  {
   "cell_type": "markdown",
   "metadata": {},
   "source": [
    "- Lambda functions = inline functions defined at the ***same place*** we use it --> often be used when just use a function for just a single time\n",
    "  - Don't need to declare a function somewhere and revisit the code\n",
    "  - Don't need to have a name\n",
    "- We define a lambda function using the keyword `lambda`, with syntax:\n",
    "  > `your_function_name = lambda inputs : output`"
   ]
  },
  {
   "cell_type": "code",
   "execution_count": 1,
   "metadata": {},
   "outputs": [
    {
     "name": "stdout",
     "output_type": "stream",
     "text": [
      "False\n",
      "False\n",
      "True\n",
      "True\n",
      "False\n",
      "True\n"
     ]
    }
   ],
   "source": [
    "l = [2,4,7,3,14,19]\n",
    "for i in l:\n",
    "    is_odd = lambda x : (x%2==1)\n",
    "    if (is_odd(i)):\n",
    "        print(\"True\")\n",
    "    else:\n",
    "        print(\"False\")"
   ]
  },
  {
   "cell_type": "markdown",
   "metadata": {},
   "source": [
    "- We can declare a lambda function and call it as an anonymous function, ***without assigning it to a variable***"
   ]
  },
  {
   "cell_type": "code",
   "execution_count": 2,
   "metadata": {},
   "outputs": [
    {
     "name": "stdout",
     "output_type": "stream",
     "text": [
      "25\n"
     ]
    }
   ],
   "source": [
    "print((lambda x: x*x)(5))"
   ]
  },
  {
   "cell_type": "markdown",
   "metadata": {},
   "source": [
    "### Multiple Function Arguments"
   ]
  },
  {
   "cell_type": "markdown",
   "metadata": {},
   "source": [
    "#### Arbitrary Argument - *args"
   ]
  },
  {
   "cell_type": "markdown",
   "metadata": {},
   "source": [
    "- We can declare functions which receive a ***variable number of arguments*** (which we unknow) --> add `*` before yhe parameter name\n",
    "- For example: the code below. The `therest` variable = a ***list of variables***, which receives all arguments given to the `foo` function after the first 3 arguments"
   ]
  },
  {
   "cell_type": "code",
   "execution_count": 3,
   "metadata": {},
   "outputs": [
    {
     "name": "stdout",
     "output_type": "stream",
     "text": [
      "First: 1\n",
      "Second: 2\n",
      "Third: 3\n",
      "And all the rest... [4, 5]\n"
     ]
    }
   ],
   "source": [
    "def foo(first, second, third, *therest):\n",
    "    print(\"First: %s\" %(first))\n",
    "    print(\"Second: %s\" %(second))\n",
    "    print(\"Third: %s\" %(third))\n",
    "    print(\"And all the rest... %s\" %(list(therest)))\n",
    "\n",
    "foo(1, 2, 3, 4, 5)"
   ]
  },
  {
   "cell_type": "markdown",
   "metadata": {},
   "source": [
    "#### Keyword Argument - kwargs"
   ]
  },
  {
   "cell_type": "markdown",
   "metadata": {},
   "source": [
    "- We can send functions arguments ***by keyword***, with the `key = value` syntax\n",
    "  > The order of the argument does not matter"
   ]
  },
  {
   "cell_type": "code",
   "execution_count": 7,
   "metadata": {},
   "outputs": [
    {
     "name": "stdout",
     "output_type": "stream",
     "text": [
      "Hello Linh from Vietnamese\n"
     ]
    }
   ],
   "source": [
    "def say_hello(name, nation):\n",
    "    print(\"Hello \" + name + \" from \" + nation)\n",
    "\n",
    "say_hello(nation=\"Vietnamese\", name=\"Linh\")"
   ]
  },
  {
   "cell_type": "markdown",
   "metadata": {},
   "source": [
    "#### Arbitrary Keyword Argument - **kwargs"
   ]
  },
  {
   "cell_type": "markdown",
   "metadata": {},
   "source": [
    "- If you do not know how many ***keyword arguments*** that will be passed into function --> add `**` before the parameter name\n",
    "- Function till receive a ***dictionary*** of arguments and can access the items\n",
    "  > The order of argument does not matter\n",
    "- If the function use/access the keyword argument but calling code does not pass that keyword argument --> raise `KeyError`"
   ]
  },
  {
   "cell_type": "code",
   "execution_count": 1,
   "metadata": {},
   "outputs": [
    {
     "name": "stdout",
     "output_type": "stream",
     "text": [
      "His last name is Refsnes\n"
     ]
    }
   ],
   "source": [
    "def my_function(**kid):\n",
    "  print(\"His last name is \" + kid[\"lname\"])\n",
    "\n",
    "my_function(fname = \"Tobias\", lname = \"Refsnes\")"
   ]
  },
  {
   "cell_type": "code",
   "execution_count": 8,
   "metadata": {},
   "outputs": [
    {
     "name": "stdout",
     "output_type": "stream",
     "text": [
      "1\n",
      "False\n",
      "True\n"
     ]
    }
   ],
   "source": [
    "# edit the functions prototype and implementation\n",
    "def foo(a, b, c, *extra):\n",
    "    return len(extra)\n",
    "\n",
    "def bar(a, b, c, **extra):\n",
    "    return extra.get(\"magicnumber\") == 7\n",
    "\n",
    "# Test code\n",
    "print(foo(1, 2, 3, 4))\n",
    "print(bar(1, 2, 3, magicnumber=6))\n",
    "print(bar(1, 2, 3, magicnumber=7))"
   ]
  },
  {
   "cell_type": "markdown",
   "metadata": {},
   "source": [
    "### Regular Expressions"
   ]
  }
 ],
 "metadata": {
  "kernelspec": {
   "display_name": "AI",
   "language": "python",
   "name": "python3"
  },
  "language_info": {
   "codemirror_mode": {
    "name": "ipython",
    "version": 3
   },
   "file_extension": ".py",
   "mimetype": "text/x-python",
   "name": "python",
   "nbconvert_exporter": "python",
   "pygments_lexer": "ipython3",
   "version": "3.10.13"
  },
  "orig_nbformat": 4
 },
 "nbformat": 4,
 "nbformat_minor": 2
}
