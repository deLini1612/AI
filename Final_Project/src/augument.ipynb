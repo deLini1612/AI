{
 "cells": [
  {
   "cell_type": "code",
   "execution_count": 28,
   "metadata": {},
   "outputs": [],
   "source": [
    "import imgaug.augmenters as iaa\n",
    "import cv2\n",
    "from PIL import Image\n",
    "import glob\n",
    "import os"
   ]
  },
  {
   "cell_type": "code",
   "execution_count": 60,
   "metadata": {},
   "outputs": [],
   "source": [
    "# 1. Load Dataset\n",
    "images = []\n",
    "origin_pic_path = glob.glob(\"fer_clean/train/disgust/*.jpg\")\n",
    "for img_path in origin_pic_path:\n",
    "    img = cv2.imread(img_path)\n",
    "    images.append(img)"
   ]
  },
  {
   "cell_type": "code",
   "execution_count": 62,
   "metadata": {},
   "outputs": [],
   "source": [
    "# 2. Image Augmentation\n",
    "augmentation = iaa.Sequential([\n",
    "    # 1. Flip\n",
    "    iaa.Fliplr(0.5),\n",
    "    # iaa.Flipud(0.5),\n",
    "    # Crop or pad each side by up to 10 percent relative to its original size\n",
    "    iaa.CropAndPad(percent=(-0.1, 0.1)),    \n",
    "    # Add random values between -40 and 40 to images\n",
    "    # with each value being sampled once per image and then being the same for all pixels: \n",
    "    iaa.Add((-30, 30))\n",
    "    # 2. Linearcontrast\n",
    "    #  Modify the contrast of images\n",
    "    # according to 127 + alpha*(v-127)`\n",
    "    # v = pixel value\n",
    "    # alpha is sampled uniformly from the interval [0.4, 1.6] (once per image)\n",
    "    # iaa.LinearContrast((0.3, 1.0)),\n",
    "    # Perform methods below only sometimes\n",
    "    # iaa.Sometimes(0.5,\n",
    "        # # 5. GaussianBlur\n",
    "        # iaa.GaussianBlur((0.0, 3.0))\n",
    "        # # )\n",
    "])"
   ]
  },
  {
   "cell_type": "code",
   "execution_count": 59,
   "metadata": {},
   "outputs": [],
   "source": [
    "# 3. Show Images\n",
    "origin_path = os.listdir('fer_clean/train/disgust')\n",
    "augmented_path = 'fer_clean/train/disgust'\n",
    "augmented_images = augmentation(images=images)\n",
    "for img, i in zip(augmented_images, origin_path):\n",
    "    cv2.imwrite(augmented_path + '/Flip' + i, img)"
   ]
  }
 ],
 "metadata": {
  "kernelspec": {
   "display_name": "base",
   "language": "python",
   "name": "python3"
  },
  "language_info": {
   "codemirror_mode": {
    "name": "ipython",
    "version": 3
   },
   "file_extension": ".py",
   "mimetype": "text/x-python",
   "name": "python",
   "nbconvert_exporter": "python",
   "pygments_lexer": "ipython3",
   "version": "3.11.0"
  },
  "orig_nbformat": 4,
  "vscode": {
   "interpreter": {
    "hash": "8c9fc08ce35a8569e796cefbbd915faecf7fa8e80b9d685c64bb874e6ddc4c74"
   }
  }
 },
 "nbformat": 4,
 "nbformat_minor": 2
}
